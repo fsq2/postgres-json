from pyspark.sql import SparkSession 
from pyspark.sql.functions import from_json 
from pyspark.sql.types import * 
# Create a new SparkSession for the consumer 
spark_consumer = SparkSession.builder \ 
                  .master("local") \ 
                  .appName("KafkaConsumer") \ 
                  .getOrCreate()



